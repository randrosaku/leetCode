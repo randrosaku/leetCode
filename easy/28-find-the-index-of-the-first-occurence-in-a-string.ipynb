{
 "cells": [
  {
   "cell_type": "code",
   "execution_count": null,
   "metadata": {},
   "outputs": [],
   "source": [
    "class Solution(object):\n",
    "    def strStr(self, haystack, needle):\n",
    "        \"\"\"\n",
    "        :type haystack: str\n",
    "        :type needle: str\n",
    "        :rtype: int\n",
    "        \"\"\"\n",
    "\n",
    "        ind = -1\n",
    "        needle_len = len(needle)\n",
    "\n",
    "        available = [haystack[i:i+needle_len] for i in range(len(haystack))]\n",
    "\n",
    "        for i in range(len(available)):\n",
    "          if available[i] == needle:\n",
    "            ind = i\n",
    "            break\n",
    "\n",
    "        return ind"
   ]
  }
 ],
 "metadata": {
  "language_info": {
   "name": "python"
  }
 },
 "nbformat": 4,
 "nbformat_minor": 2
}
