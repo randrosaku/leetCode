{
 "cells": [
  {
   "cell_type": "code",
   "execution_count": null,
   "metadata": {},
   "outputs": [],
   "source": [
    "class Solution(object):\n",
    "    def plusOne(self, digits):\n",
    "        \"\"\"\n",
    "        :type digits: List[int]\n",
    "        :rtype: List[int]\n",
    "        \"\"\"\n",
    "\n",
    "        digits_str = str(digits)\n",
    "        digits_str = digits_str.replace(\"[\", \"\")\n",
    "        digits_str = digits_str.replace(\"]\", \"\")\n",
    "        digits_str = digits_str.replace(\",\", \"\")\n",
    "        digits_str = digits_str.replace(\" \", \"\")\n",
    "\n",
    "        converted = int(digits_str)\n",
    "\n",
    "        return [int(i) for i in str(converted+1)]"
   ]
  }
 ],
 "metadata": {
  "language_info": {
   "name": "python"
  }
 },
 "nbformat": 4,
 "nbformat_minor": 2
}
