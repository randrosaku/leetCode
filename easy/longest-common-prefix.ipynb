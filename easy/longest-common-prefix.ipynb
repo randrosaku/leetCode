{
 "cells": [
  {
   "cell_type": "code",
   "execution_count": 42,
   "metadata": {},
   "outputs": [],
   "source": [
    "class Solution(object):\n",
    "    def longestCommonPrefix(self, strs):\n",
    "        \"\"\"\n",
    "        :type strs: List[str]\n",
    "        :rtype: str\n",
    "        \"\"\"\n",
    "\n",
    "        if len(strs) == 1:\n",
    "            return strs[0]\n",
    "\n",
    "        prefix = \"\"\n",
    "        i = 1\n",
    "        w = strs[0]\n",
    "        strs.remove(w)\n",
    "\n",
    "        flag = False\n",
    "        flags = []\n",
    "\n",
    "        for word in strs:\n",
    "            for i in range(len(w)):\n",
    "                try:\n",
    "                    if word[:i+1] == w[:i+1]:\n",
    "                        flag = True\n",
    "                        prefix = word[:i+1]\n",
    "                except:\n",
    "                    continue\n",
    "            w = prefix\n",
    "            flags.append(flag)\n",
    "            flag = False\n",
    "                \n",
    "        if False in flags:\n",
    "            return \"\"\n",
    "        \n",
    "        return prefix\n",
    "        \n",
    "        "
   ]
  },
  {
   "cell_type": "code",
   "execution_count": null,
   "metadata": {},
   "outputs": [],
   "source": []
  }
 ],
 "metadata": {
  "kernelspec": {
   "display_name": "leet",
   "language": "python",
   "name": "python3"
  },
  "language_info": {
   "codemirror_mode": {
    "name": "ipython",
    "version": 3
   },
   "file_extension": ".py",
   "mimetype": "text/x-python",
   "name": "python",
   "nbconvert_exporter": "python",
   "pygments_lexer": "ipython3",
   "version": "3.11.8"
  }
 },
 "nbformat": 4,
 "nbformat_minor": 2
}
