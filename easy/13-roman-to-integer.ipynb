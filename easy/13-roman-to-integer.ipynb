{
 "cells": [
  {
   "cell_type": "code",
   "execution_count": null,
   "metadata": {},
   "outputs": [],
   "source": [
    "class Solution(object):\n",
    "    def romanToInt(self, s):\n",
    "        \"\"\"\n",
    "        :type s: str\n",
    "        :rtype: int\n",
    "        \"\"\"\n",
    "\n",
    "        romans = {\n",
    "            \"I\": 1, \n",
    "            \"V\": 5,\n",
    "            \"X\": 10,\n",
    "            \"L\": 50,\n",
    "            \"C\": 100,\n",
    "            \"D\": 500,\n",
    "            \"M\": 1000,\n",
    "        }\n",
    "\n",
    "        subtractions = {\n",
    "            \"IV\": 4,\n",
    "            \"IX\": 9,\n",
    "            \"XL\": 40,\n",
    "            \"XC\": 90,\n",
    "            \"CD\": 400,\n",
    "            \"CM\": 900\n",
    "            }\n",
    "\n",
    "        int_sum = 0\n",
    "        pairs = [s[i:i+2] for i in range(len(s) - 1)]\n",
    "        delete = []\n",
    "        \n",
    "        for pair in pairs:\n",
    "            if pair in subtractions.keys():\n",
    "                s = s.replace(pair, \"\", 1)\n",
    "                int_sum += subtractions[pair]\n",
    "\n",
    "        for char in s:\n",
    "            int_sum += romans[char]\n",
    "\n",
    "        return int_sum\n",
    "        "
   ]
  }
 ],
 "metadata": {
  "language_info": {
   "name": "python"
  }
 },
 "nbformat": 4,
 "nbformat_minor": 2
}
