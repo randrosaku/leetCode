{
 "cells": [
  {
   "cell_type": "code",
   "execution_count": 81,
   "metadata": {},
   "outputs": [],
   "source": [
    "list1 = [1,2,4]\n",
    "list2 = [1,3,4]"
   ]
  },
  {
   "cell_type": "code",
   "execution_count": 82,
   "metadata": {},
   "outputs": [],
   "source": [
    "class ListNode(object):\n",
    "    def __init__(self, val=0, next=None):\n",
    "        self.val = val\n",
    "        self.next = next\n",
    "\n",
    "class LinkedList:\n",
    "    def __init__(self):\n",
    "        self.head = None\n",
    "    \n",
    "    def inserAtEnd(self, data):\n",
    "        new_node = ListNode(data)\n",
    "        if self.head is None:\n",
    "            self.head = new_node\n",
    "            return\n",
    "\n",
    "        current_node = self.head\n",
    "        while(current_node.next):\n",
    "            current_node = current_node.next\n",
    "\n",
    "        current_node.next = new_node\n",
    "\n",
    "    def get_elements(self):\n",
    "        elements = []\n",
    "        current_node = self.head\n",
    "        while current_node:\n",
    "            elements.append(current_node.val)\n",
    "            current_node = current_node.next\n",
    "        return elements\n",
    "\n",
    "class Solution(object):\n",
    "    def mergeTwoLists(self, list1, list2):\n",
    "        \"\"\"\n",
    "        :type list1: Optional[ListNode]\n",
    "        :type list2: Optional[ListNode]\n",
    "        :rtype: Optional[ListNode]\n",
    "        \"\"\"\n",
    "        sorted_llist = LinkedList()\n",
    "\n",
    "        if len(list1) == 0:\n",
    "            return list2\n",
    "        elif len(list2) == 0:\n",
    "            return list1\n",
    "\n",
    "        for el1, el2 in zip(list1, list2):\n",
    "            if el1 == el2:\n",
    "                sorted_llist.inserAtEnd(el1)\n",
    "                sorted_llist.inserAtEnd(el2)\n",
    "            elif el1 < el2:\n",
    "                sorted_llist.inserAtEnd(el1)\n",
    "                sorted_llist.inserAtEnd(el2)\n",
    "            elif el2 < el1:\n",
    "                sorted_llist.inserAtEnd(el2)\n",
    "                sorted_llist.inserAtEnd(el1)\n",
    "        \n",
    "\n",
    "        return sorted_llist.get_elements()"
   ]
  },
  {
   "cell_type": "code",
   "execution_count": 83,
   "metadata": {},
   "outputs": [],
   "source": [
    "test = Solution()"
   ]
  },
  {
   "cell_type": "code",
   "execution_count": 84,
   "metadata": {},
   "outputs": [
    {
     "data": {
      "text/plain": [
       "[1, 1, 2, 3, 4, 4]"
      ]
     },
     "execution_count": 84,
     "metadata": {},
     "output_type": "execute_result"
    }
   ],
   "source": [
    "test.mergeTwoLists(list1, list2)"
   ]
  },
  {
   "cell_type": "code",
   "execution_count": null,
   "metadata": {},
   "outputs": [],
   "source": []
  }
 ],
 "metadata": {
  "kernelspec": {
   "display_name": "leet",
   "language": "python",
   "name": "python3"
  },
  "language_info": {
   "codemirror_mode": {
    "name": "ipython",
    "version": 3
   },
   "file_extension": ".py",
   "mimetype": "text/x-python",
   "name": "python",
   "nbconvert_exporter": "python",
   "pygments_lexer": "ipython3",
   "version": "3.11.8"
  }
 },
 "nbformat": 4,
 "nbformat_minor": 2
}
