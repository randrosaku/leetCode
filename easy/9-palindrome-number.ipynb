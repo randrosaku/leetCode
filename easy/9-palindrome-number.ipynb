{
 "cells": [
  {
   "cell_type": "code",
   "execution_count": null,
   "metadata": {},
   "outputs": [],
   "source": [
    "class Solution(object):\n",
    "    def isPalindrome(self, x):\n",
    "        \"\"\"\n",
    "        :type x: int\n",
    "        :rtype: bool\n",
    "        \"\"\"\n",
    "\n",
    "        xx = []\n",
    "        for char in str(x):\n",
    "            xx.append(char)\n",
    "\n",
    "        reversed = xx[::-1]\n",
    "        \n",
    "        if xx == reversed:\n",
    "            return True\n",
    "        return False\n",
    "        "
   ]
  }
 ],
 "metadata": {
  "language_info": {
   "name": "python"
  }
 },
 "nbformat": 4,
 "nbformat_minor": 2
}
