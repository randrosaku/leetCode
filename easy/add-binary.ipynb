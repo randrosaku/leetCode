{
 "cells": [
  {
   "cell_type": "code",
   "execution_count": 54,
   "metadata": {},
   "outputs": [],
   "source": [
    "a = \"101\"\n",
    "b = \"111\""
   ]
  },
  {
   "cell_type": "code",
   "execution_count": 55,
   "metadata": {},
   "outputs": [],
   "source": [
    "class Solution(object):\n",
    "    def addBinary(self, a, b):\n",
    "        \"\"\"\n",
    "        :type a: str\n",
    "        :type b: str\n",
    "        :rtype: str\n",
    "        \"\"\"\n",
    "\n",
    "        result = \"\"\n",
    "        carry_over = False\n",
    "\n",
    "        i = -1\n",
    "\n",
    "        while True:\n",
    "          try:\n",
    "            aa = int(a[i])\n",
    "            bb = int(b[i])\n",
    "\n",
    "            print(aa, bb)\n",
    "            \n",
    "            if aa == 0 and bb == 0:\n",
    "                result = \"0\" + result\n",
    "            elif (aa == 0 and bb == 1) or (aa == 1 and bb == 0): \n",
    "                result = \"1\" + result\n",
    "            elif aa == 1 and bb == 1:\n",
    "                carry_over = True\n",
    "                result = \"0\" + result            \n",
    "\n",
    "            if carry_over:\n",
    "              if b[:i-1] == \"1\":\n",
    "                b[:i-1] = \"0\"\n",
    "              else:\n",
    "                b[:i-1] = \"1\"\n",
    "                # b = b[:i-1] + \"1\" + b[i-1 + 1:]\n",
    "\n",
    "            i -= 1\n",
    "\n",
    "          except:\n",
    "            break\n",
    "\n",
    "        return result"
   ]
  },
  {
   "cell_type": "code",
   "execution_count": 56,
   "metadata": {},
   "outputs": [],
   "source": [
    "test = Solution()"
   ]
  },
  {
   "cell_type": "code",
   "execution_count": 57,
   "metadata": {},
   "outputs": [
    {
     "name": "stdout",
     "output_type": "stream",
     "text": [
      "1 1\n"
     ]
    },
    {
     "data": {
      "text/plain": [
       "'0'"
      ]
     },
     "execution_count": 57,
     "metadata": {},
     "output_type": "execute_result"
    }
   ],
   "source": [
    "test.addBinary(a, b)"
   ]
  },
  {
   "cell_type": "code",
   "execution_count": null,
   "metadata": {},
   "outputs": [],
   "source": []
  }
 ],
 "metadata": {
  "kernelspec": {
   "display_name": "leet",
   "language": "python",
   "name": "python3"
  },
  "language_info": {
   "codemirror_mode": {
    "name": "ipython",
    "version": 3
   },
   "file_extension": ".py",
   "mimetype": "text/x-python",
   "name": "python",
   "nbconvert_exporter": "python",
   "pygments_lexer": "ipython3",
   "version": "3.11.8"
  }
 },
 "nbformat": 4,
 "nbformat_minor": 2
}
