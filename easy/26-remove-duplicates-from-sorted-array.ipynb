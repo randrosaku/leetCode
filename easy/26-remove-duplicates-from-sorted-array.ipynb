{
 "cells": [
  {
   "cell_type": "code",
   "execution_count": null,
   "metadata": {},
   "outputs": [],
   "source": [
    "class Solution(object):\n",
    "    def removeDuplicates(self, nums):\n",
    "        \"\"\"\n",
    "        :type nums: List[int]\n",
    "        :rtype: int\n",
    "        \"\"\"\n",
    "\n",
    "        expected = []\n",
    "\n",
    "        for num in nums[:]:\n",
    "          if num in expected:\n",
    "            nums.remove(num)\n",
    "          else:\n",
    "            expected.append(num)\n",
    "\n",
    "        k = len(nums)\n",
    "\n",
    "        return k"
   ]
  }
 ],
 "metadata": {
  "language_info": {
   "name": "python"
  }
 },
 "nbformat": 4,
 "nbformat_minor": 2
}
